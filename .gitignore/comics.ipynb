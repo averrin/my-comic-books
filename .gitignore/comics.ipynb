{
 "cells": [
  {
   "cell_type": "code",
   "execution_count": 3,
   "metadata": {},
   "outputs": [],
   "source": [
    "import xml.etree.ElementTree"
   ]
  },
  {
   "cell_type": "code",
   "execution_count": 63,
   "metadata": {},
   "outputs": [],
   "source": [
    "e = xml.etree.ElementTree.parse('backup.xml').getroot()"
   ]
  },
  {
   "cell_type": "code",
   "execution_count": 5,
   "metadata": {},
   "outputs": [
    {
     "data": {
      "text/plain": [
       "<Element 'collectorz' at 0x7f37353a4318>"
      ]
     },
     "execution_count": 5,
     "metadata": {},
     "output_type": "execute_result"
    }
   ],
   "source": [
    "e"
   ]
  },
  {
   "cell_type": "code",
   "execution_count": 6,
   "metadata": {},
   "outputs": [
    {
     "data": {
      "text/plain": [
       "[]"
      ]
     },
     "execution_count": 6,
     "metadata": {},
     "output_type": "execute_result"
    }
   ],
   "source": [
    "e.findall('comic')"
   ]
  },
  {
   "cell_type": "code",
   "execution_count": 7,
   "metadata": {},
   "outputs": [
    {
     "data": {
      "text/plain": [
       "[<Element 'response' at 0x7f37353a4368>,\n",
       " <Element 'meta' at 0x7f37353a4458>,\n",
       " <Element 'data' at 0x7f37353a44f8>]"
      ]
     },
     "execution_count": 7,
     "metadata": {},
     "output_type": "execute_result"
    }
   ],
   "source": [
    "e.getchildren()"
   ]
  },
  {
   "cell_type": "code",
   "execution_count": 64,
   "metadata": {},
   "outputs": [],
   "source": [
    "data = e.getchildren()[2][0][0]"
   ]
  },
  {
   "cell_type": "code",
   "execution_count": 23,
   "metadata": {},
   "outputs": [
    {
     "name": "stdout",
     "output_type": "stream",
     "text": [
      "<Element 'comiclist' at 0x7f37353a4598>\n"
     ]
    }
   ],
   "source": [
    "print(data)"
   ]
  },
  {
   "cell_type": "code",
   "execution_count": 80,
   "metadata": {},
   "outputs": [],
   "source": [
    "comics = []\n",
    "for comic in data.getchildren():\n",
    "    main = comic.find('mainsection')\n",
    "    t = main.find('title')\n",
    "    comics.append({'title': t.text if t is not None else None, 'series': {'data': main.find('series'), \n",
    "                                                                           'title': main.find('series').find('displayname').text if main.find('series').find('displayname') is not None else None},\n",
    "        'data': main, 'issue': {'num': comic.find('issuenr'), 'ext': comic.find('issuenr')}})\n",
    "comics = sorted(comics, key=lambda x: int(x['issue']['num'].text) if x['issue']['num'] is not None else 0)\n",
    "comics = sorted(comics, key=lambda x: x['series']['title'] if x['series']['title'] is not None else x['title'])"
   ]
  },
  {
   "cell_type": "code",
   "execution_count": 75,
   "metadata": {},
   "outputs": [
    {
     "data": {
      "text/plain": [
       "163"
      ]
     },
     "execution_count": 75,
     "metadata": {},
     "output_type": "execute_result"
    }
   ],
   "source": [
    "len(comics)"
   ]
  },
  {
   "cell_type": "code",
   "execution_count": 81,
   "metadata": {},
   "outputs": [
    {
     "name": "stdout",
     "output_type": "stream",
     "text": [
      "Alias Omnibus [1]\n",
      "American Vampire HC / TP [1]\n",
      "American Vampire HC / TP [2]\n",
      "American Vampire HC / TP: American Vampire #12-18 [3]\n",
      "American Vampire HC / TP: American Vampire #19-27 [4]\n",
      "Archie, Vol. 2 HC / TP [1]\n",
      "Archie, Vol. 2 HC / TP [2]\n",
      "Archie, Vol. 2 HC / TP [3]\n",
      "Batman: The Black Mirror \n",
      "Batman: Hush \n",
      "Batman: Year One \n",
      "Batman: The Long Halloween \n",
      "Batman: Arkham Asylum \n",
      "Batman: R.I.P. \n",
      "Batman: The Black Glove \n",
      "Batman: Batman And Son \n",
      "Batman: The Resurrection of Ra's Al Ghul \n",
      "Batman: Noel \n",
      "Batman: Under The Red Hood \n",
      "Batman: The Killing Joke \n",
      "Batman: The Man Who Laughs \n",
      "Batman: The Button \n",
      "Batman: I Am Gotham [1]\n",
      "Batman: Harley Quinn [1]\n",
      "Batman: Knightfall Omnibus [1]\n",
      "Batman: I Am Suicide [2]\n",
      "Batman: Joker: Endgame [7]\n",
      "Batman Hard Cover: Batman: The Court Of Owls [1]\n",
      "Batman Hard Cover: Batman: The City Of Owls [2]\n",
      "Batman Hard Cover: Batman: Death Of The Family [3]\n",
      "Batman Hard Cover: Batman: Zero Year - Secret City [4]\n",
      "Batman Hard Cover: Batman: Zero Year - Dark City [5]\n",
      "Batman Hard Cover: Graveyard Shift [6]\n",
      "Batman Hard Cover: Superheavy (Batman, Vol. 2 #41-45, Dc Sneak Peek: Batman #1) [8]\n",
      "Batman Hard Cover: Bloom [9]\n",
      "Batman Incorporated, Vol. 2: Demon Star [1]\n",
      "Batman Incorporated, Vol. 2: Gotham's Most Wanted [2]\n",
      "Batman: Black and White HC and TP [1]\n",
      "Batman: Black and White HC and TP [2]\n",
      "Batman: Dark Victory \n",
      "Batman: The Heart of Hush \n",
      "Batman: The Killing Joke: Batman: The Killing Joke [0]\n",
      "Castle: Storm Season: Castle: Storm Season \n",
      "Complete Zombies vs. Robots \n",
      "Daredevil by Mark Waid: Daredevil, Vol. 3 #1-6 [1]\n",
      "Daredevil by Mark Waid: Daredevil, Vol. 3 #7-10, 10.1, Amazing Spider-Man #677 [2]\n",
      "Daredevil by Mark Waid: Daredevil, Vol. 3 #11-15, Avenging Spider-Man #6, Punisher #10 [3]\n",
      "Daredevil by Mark Waid [4]\n",
      "Daredevil by Mark Waid [5]\n",
      "Daredevil by Mark Waid [6]\n",
      "Daredevil by Mark Waid [7]\n",
      "Dark Days: The Road To Metal \n",
      "Dark Knights: The Nightmare Batmen: Dark Nights \n",
      "Dark Nights: Metal \n",
      "Dark Nights: Metal The Resistance TP \n",
      "Darkness Origins [2]\n",
      "Darkness Origins [3]\n",
      "Deadpool Kills Deadpool \n",
      "Deadpool Kills the Marvel Universe \n",
      "Deadpool Killustrated \n",
      "Deadpool TP / HC: Secret Invasion [1]\n",
      "Deadpool TP / HC: Dark Reign [2]\n",
      "Deadpool by Daniel Way: The Complete Collection [2]\n",
      "Deadpool by Daniel Way: The Complete Collection [3]\n",
      "Deadpool vs. Carnage [RUS] \n",
      "Deadpool, Vol. 4 TP / HC: Dead Presidents [1]\n",
      "Deadpool, Vol. 4 TP / HC: Soul Hunter [2]\n",
      "Death: Death : De Luxe [1]\n",
      "Exlibrium: Book One [1]\n",
      "Fables HC: The Deluxe Edition: Fables #1-10 [1]\n",
      "Fables HC: The Deluxe Edition: Fables #11-18, Fables: The Last Castle [2]\n",
      "Fell HC: Feral City \n",
      "Forever Evil HC / TP [1]\n",
      "Grimm Fairy Tales Presents Robyn Hood: Wanted [1]\n",
      "Harley Quinn, Vol. 2 HC / TP [1]\n",
      "Harley Quinn, Vol. 2 HC / TP [2]\n",
      "Hawkeye vs. Deadpool: Hawkeye vs. Deadpool \n",
      "Hawkeye, Vol. 4 HC / TP: Hawkeye #1: My Life As A Weapon [1]\n",
      "Hawkeye, Vol. 4 HC / TP: Hawkeye #2: Little Hits [2]\n",
      "Hawkeye, Vol. 4 HC / TP: Hawkeye #3: L.A. Woman [3]\n",
      "Hawkeye, Vol. 4 HC / TP: Rio Bravo [4]\n",
      "Injustice: Gods Among Us HC: Injustice: Gods Among Us #1-6 [1]\n",
      "Iron Man, Vol. 5 HC / TP: Believe [1]\n",
      "Iron Man, Vol. 5 HC / TP: The Secret Origin Of Tony Stark Book 1 [2]\n",
      "Joker: Joker \n",
      "Justice League TP / HC: Origin [1]\n",
      "Justice League TP / HC: The Villain's Journey [2]\n",
      "Justice League TP / HC: Throne Of Atlantis [3]\n",
      "Justice League TP / HC: The Grid [4]\n",
      "Justice League: Trinity War HC / TP \n",
      "Legend of Drizzt: Book 1: Homeland \n",
      "Locke & Key: Welcome to Lovecraft \n",
      "Mad Love: Mad Love \n",
      "Manhattan Projects HC /TP [1]\n",
      "Moon Knight. Vol. 7 HC / TP: From The Dead [1]\n",
      "Moon Knight. Vol. 7 HC / TP: Dead Will Rise [2]\n",
      "Moon Knight. Vol. 7 HC / TP: In The Night [3]\n",
      "Mouse Guard: Fall 1152: Fall 1152 \n",
      "Night of the Living Deadpool: Night Of The Living Deadpool #1-4 [0]\n",
      "Rat Queens: Sass And Sorcery [1]\n",
      "Rat Queens: The Far Reaching Tentacles Of N'yrgoth [2]\n",
      "Return of the Living Deadpool [1]\n",
      "Sex Criminals: Sex Criminals #1-5 [1]\n",
      "Sex Criminals: Sex Criminals #6-10 [2]\n",
      "Spawn Origins [1]\n",
      "Spawn Origins: Spawn #13-25 [2]\n",
      "Suicide Squad, Vol. 3 TP: Kicked in The Teeth [1]\n",
      "Suicide Squad, Vol. 3 TP [2]\n",
      "Suicide Squad, Vol. 3 TP: Discipline And Punish [3]\n",
      "Suicide Squad, Vol. 3 TP: Death Is For Suckers [4]\n",
      "Suicide Squad, Vol. 3 TP: Walled In [5]\n",
      "Superior Spider-Man HC / TP: My Own Worst Enemy [1]\n",
      "Superior Spider-Man HC / TP: A Troubled Mind [2]\n",
      "Superior Spider-Man HC / TP: No Escape [3]\n",
      "Superior Spider-Man HC / TP: Necessary Evil [4]\n",
      "Superior Spider-Man HC / TP: Superior Venom [5]\n",
      "Superior Spider-Man HC / TP: Goblin Nation [6]\n",
      "The Darkness / Batman 20th Anniversary Crossover Collection TP \n",
      "The Five Fists of Science \n",
      "The Flash: The New 52 HC / TP: Move Forward [1]\n",
      "The Flash: The New 52 HC / TP: Rogues Revolution [2]\n",
      "The Flash: The New 52 HC / TP: Gorilla Warfare [3]\n",
      "The Graveyard Book \n",
      "The Punisher, Vol. 7 (2004-2009) TP: In The Beginning [1]\n",
      "The Punisher, Vol. 7 (2004-2009) TP: Kitchen Irish [2]\n",
      "The Sandman [RU]: The Sandman: Прелюдии и ноктюрны [1]\n",
      "The Sandman [RU]: The Sandman: Кукольный домик [2]\n",
      "The Sandman [RU]: The Sandman: Страна снов [3]\n",
      "The Sandman [RU]: The Sandman #4: Пора туманов [4]\n",
      "The Sandman [RU]: The Sandman #5: Игра в тебя [5]\n",
      "The Sandman [RU]: The Sandman #6: Притчи и Отражения [6]\n",
      "Transmetropolitan: Transmetropolitan #1 [1]\n",
      "Transmetropolitan: Transmetropolitan #2 [2]\n",
      "Transmetropolitan: Transmetropolitan #3 [3]\n",
      "Transmetropolitan: Transmetropolitan #4 [4]\n",
      "Transmetropolitan: Transmetropolitan #5 [5]\n",
      "Transmetropolitan: Transmetropolitan #6 [6]\n",
      "Transmetropolitan: Transmetropolitan #7 [7]\n",
      "Transmetropolitan: Transmetropolitan #8 [8]\n",
      "Transmetropolitan: Transmetropolitan #9 [9]\n",
      "Transmetropolitan: Transmetropolitan #10 [10]\n",
      "Undertow TP [1]\n",
      "Vision, Vol. 3 HC / TP: Little Worse Than A Man (Vision, Vol. 3 #1-6) [1]\n",
      "Vision, Vol. 3 HC / TP: Little Better Than a Beast [2]\n",
      "Watchmen TP and HC: Watchmen \n",
      "Бесобой: Имя ему Бесобой [1]\n",
      "Бесобой: Лицо Зверя [2]\n",
      "Бесобой: Три Сестры [3]\n",
      "Бесобой: Балор [4]\n",
      "Бесобой: Метро [5]\n",
      "Бесобой: Стая [6]\n",
      "Бесобой: Жертвы обстоятельств [7]\n",
      "Время Ворона: Время Ворона \n",
      "Клуб: Клуб \n",
      "Майор Гром TP: Чумной доктор. Книга первая [1]\n",
      "Майор Гром TP: Чумной доктор. Книга вторая [2]\n",
      "Майор Гром TP: День Святого Патрика. [3]\n",
      "Майор Гром TP: Как в сказке. [4]\n",
      "Майор Гром TP: Игра. [5]\n",
      "Майор Гром TP: Голоса. [6]\n",
      "Майор Гром TP: В сердце тьмы [7]\n",
      "Экслибриум: Экслибриум [1]\n",
      "Экслибриум: Экслибриум [2]\n"
     ]
    }
   ],
   "source": [
    "for comic in comics:\n",
    "    n = comic['issue']['num']\n",
    "    num = ''\n",
    "    if n is not None:\n",
    "        num = n.text\n",
    "    e = comic['issue']['ext']\n",
    "    ext = ''\n",
    "    if e is not None and num != e.text:\n",
    "        ext = e.text\n",
    "    title = \"{}: {}\".format(comic['series']['title'], comic['title'])\n",
    "    if comic['title'] is None:\n",
    "        title = comic['series']['title']\n",
    "    if comic['series']['title'] is None or (comic['title'] is not None and comic['title'].startswith(\"{}: \".format(comic['series']['title']))):\n",
    "        title = comic['title']\n",
    "    issue = \"\"\n",
    "    if num != '' or ext != '':\n",
    "        issue = \"[{}{}]\".format(num, ext)\n",
    "    print(\"{} {}\".format(title, issue))"
   ]
  },
  {
   "cell_type": "code",
   "execution_count": null,
   "metadata": {},
   "outputs": [],
   "source": []
  }
 ],
 "metadata": {
  "kernelspec": {
   "display_name": "Python 3",
   "language": "python",
   "name": "python3"
  },
  "language_info": {
   "codemirror_mode": {
    "name": "ipython",
    "version": 3
   },
   "file_extension": ".py",
   "mimetype": "text/x-python",
   "name": "python",
   "nbconvert_exporter": "python",
   "pygments_lexer": "ipython3",
   "version": "3.6.6"
  }
 },
 "nbformat": 4,
 "nbformat_minor": 2
}
